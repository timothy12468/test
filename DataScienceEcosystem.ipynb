{
 "cells": [
  {
   "cell_type": "markdown",
   "id": "1c6ffaae-0110-415f-9b8c-fb308b7516d5",
   "metadata": {},
   "source": [
    "# Data Science Tools and Ecosystem"
   ]
  },
  {
   "cell_type": "markdown",
   "id": "d14e8ac4-7be7-4aa0-90b4-a1f2e03fe2f9",
   "metadata": {},
   "source": [
    "In this notebook, Data Science Tools and Ecosystem are summarized"
   ]
  },
  {
   "cell_type": "markdown",
   "id": "ae5e025c-1602-4a4a-aae2-557a100e75d4",
   "metadata": {},
   "source": [
    "__Objectives:__\n",
    "\n",
    "- Listing popular languages for data science\n",
    "- Listing popular tools used in data science\n",
    "- Executing basic arithmetic expressions\n",
    "- Converting hours to minutes \n",
    "- Introduction to Jupyter notebooks "
   ]
  },
  {
   "cell_type": "markdown",
   "id": "4fb989d2-d444-4af9-9a04-01e1d04ee474",
   "metadata": {},
   "source": [
    "Some of the popular languages that Data Scientists us are: \n",
    "1. Python\n",
    "2. R\n",
    "3. SQL "
   ]
  },
  {
   "cell_type": "markdown",
   "id": "4cd21631-97e6-438a-ab90-1b84e62da300",
   "metadata": {},
   "source": [
    "Some of the commonly used libraries used by Data Scientists include: \n",
    "1. Pandas\n",
    "2. NumPy\n",
    "3. SciPy\n",
    "4. Matplotlib\n",
    "5. SciKit-Learn"
   ]
  },
  {
   "cell_type": "markdown",
   "id": "c217b08a-1a35-455f-b0f8-a0d7824f1be6",
   "metadata": {
    "tags": []
   },
   "source": [
    "| Data Science Tool |\n",
    "| ------ |\n",
    "| MySQL |\n",
    "| PostgreSQL |\n",
    "| MongoDB |"
   ]
  },
  {
   "cell_type": "markdown",
   "id": "5444c927-ec56-4209-bd09-c758fddd63d4",
   "metadata": {},
   "source": [
    "### Below are a few examples of evaluating arithmetic expressions in Python"
   ]
  },
  {
   "cell_type": "code",
   "execution_count": 1,
   "id": "ae00ae0b-ae10-4617-bb32-ced5829fa7ec",
   "metadata": {},
   "outputs": [
    {
     "data": {
      "text/plain": [
       "17"
      ]
     },
     "execution_count": 1,
     "metadata": {},
     "output_type": "execute_result"
    }
   ],
   "source": [
    "#This is a simple arithmetic operation that adds and multiplies integers\n",
    "(3*4)+5"
   ]
  },
  {
   "cell_type": "code",
   "execution_count": 2,
   "id": "d1a8531c-f253-47f4-bbd5-bf01cf30cc1c",
   "metadata": {
    "tags": []
   },
   "outputs": [
    {
     "data": {
      "text/plain": [
       "3.3333333333333335"
      ]
     },
     "execution_count": 2,
     "metadata": {},
     "output_type": "execute_result"
    }
   ],
   "source": [
    "#This will convert 200 minutes into hours by dividing by 60\n",
    "minutes = 200\n",
    "hours = minutes/60\n",
    "hours"
   ]
  },
  {
   "cell_type": "markdown",
   "id": "ec55eb96-f103-436b-8501-e468debeedd4",
   "metadata": {
    "tags": []
   },
   "source": [
    "## Author: \n",
    "## Timothy Lee"
   ]
  },
  {
   "cell_type": "code",
   "execution_count": null,
   "id": "2b993085-1767-4bfe-8d8d-53b8e21c7d32",
   "metadata": {},
   "outputs": [],
   "source": []
  }
 ],
 "metadata": {
  "kernelspec": {
   "display_name": "Python",
   "language": "python",
   "name": "conda-env-python-py"
  },
  "language_info": {
   "codemirror_mode": {
    "name": "ipython",
    "version": 3
   },
   "file_extension": ".py",
   "mimetype": "text/x-python",
   "name": "python",
   "nbconvert_exporter": "python",
   "pygments_lexer": "ipython3",
   "version": "3.7.12"
  }
 },
 "nbformat": 4,
 "nbformat_minor": 5
}
